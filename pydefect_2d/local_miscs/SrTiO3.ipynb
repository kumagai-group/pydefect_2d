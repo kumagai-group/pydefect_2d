{
 "cells": [
  {
   "cell_type": "code",
   "execution_count": 16,
   "metadata": {
    "collapsed": true
   },
   "outputs": [],
   "source": [
    "from pathlib import Path\n",
    "\n",
    "from matplotlib import pyplot as plt\n",
    "\n",
    "path = Path(\"/Users/kumagai/ato/kuma/vasp/pydefect_2d/2d_correction/SrTiO3_wU/defects\")"
   ]
  },
  {
   "cell_type": "code",
   "execution_count": 17,
   "outputs": [],
   "source": [
    "from pydefect.analyzer.defect_energy import DefectEnergyInfo\n",
    "\n",
    "#result_15, result_15_c = {}, {}\n",
    "result_20, result_20_c = {}, {}\n",
    "\n",
    "for in_plane in [3, 4, 5]:\n",
    "#for in_plane in [6, 9, 12]:\n",
    "    for vertical in [20]:\n",
    "        try:\n",
    "#            dirname = path / f\"{in_plane}x{in_plane}_{vertical}A\" / \"Va_Ti1_-4\"\n",
    "            dirname = path / f\"{in_plane}x{in_plane}_{vertical}A\" / \"Va_O2_2\"\n",
    "            de = DefectEnergyInfo.from_yaml(dirname / \"defect_energy_info.yaml\").defect_energy\n",
    "\n",
    "            globals()[f\"result_{vertical}\"][1 / in_plane] = de.energy(with_correction=False)\n",
    "            globals()[f\"result_{vertical}_c\"][1 / in_plane] = de.energy(with_correction=True)\n",
    "        except:\n",
    "            pass"
   ],
   "metadata": {
    "collapsed": false,
    "pycharm": {
     "name": "#%%\n"
    }
   }
  },
  {
   "cell_type": "code",
   "execution_count": 18,
   "outputs": [
    {
     "name": "stderr",
     "output_type": "stream",
     "text": [
      "No artists with labels found to put in legend.  Note that artists whose label start with an underscore are ignored when legend() is called with no argument.\n"
     ]
    },
    {
     "data": {
      "text/plain": "<Figure size 640x480 with 1 Axes>",
      "image/png": "[encoded data removed]"
     },
     "metadata": {},
     "output_type": "display_data"
    }
   ],
   "source": [
    "#plt.scatter(result_15.keys(), result_15.values(), color=\"blue\")\n",
    "#plt.scatter(result_15_c.keys(), result_15_c.values(), color=\"white\", edgecolors=\"blue\")\n",
    "plt.scatter(result_20.keys(), result_20.values(), color=\"red\")\n",
    "plt.scatter(result_20_c.keys(), result_20_c.values(), color=\"white\", edgecolors=\"red\")\n",
    "\n",
    "ax = plt.gca()\n",
    "ax.legend()\n",
    "plt.xlim([0, 0.4])\n",
    "#plt.ylim([-3.05, -2.50])\n",
    "plt.show()"
   ],
   "metadata": {
    "collapsed": false,
    "pycharm": {
     "name": "#%%\n"
    }
   }
  }
 ],
 "metadata": {
  "kernelspec": {
   "display_name": "Python 3",
   "language": "python",
   "name": "python3"
  },
  "language_info": {
   "codemirror_mode": {
    "name": "ipython",
    "version": 2
   },
   "file_extension": ".py",
   "mimetype": "text/x-python",
   "name": "python",
   "nbconvert_exporter": "python",
   "pygments_lexer": "ipython2",
   "version": "2.7.6"
  }
 },
 "nbformat": 4,
 "nbformat_minor": 0
}